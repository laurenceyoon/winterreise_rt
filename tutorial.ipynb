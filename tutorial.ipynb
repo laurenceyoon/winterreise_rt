{
 "cells": [
  {
   "cell_type": "markdown",
   "metadata": {},
   "source": [
    "## About\n",
    "\n",
    "*winterreise_rt* is a subset of Schubert Winterreise Dataset(SWD) [1] for real-time lyrics alignment.\n",
    "The Schubert Winterreise Dataset(SWD) dataset is a collection of resources of Schubert’s song cycle for voice and piano ‘Winterreise’. \n",
    "The the song cycle Winterreise D911 (Op. 89) consists of 24 songs composed for solo voice with piano accompaniment.\n",
    "\n",
    "## Download the latest version of the Schubert Winterreise Dataset (SWD)\n",
    "First of all, we will download the SWD dataset and revise the file structure to fit the *winterreise_rt* dataset from the scratch."
   ]
  },
  {
   "cell_type": "code",
   "execution_count": 2,
   "metadata": {},
   "outputs": [
    {
     "name": "stdout",
     "output_type": "stream",
     "text": [
      "--2023-09-13 04:53:18--  https://zenodo.org/record/5139893/files/Schubert_Winterreise_Dataset_v2-0.zip?download=1\n",
      "Resolving zenodo.org (zenodo.org)... 188.185.124.72\n",
      "Connecting to zenodo.org (zenodo.org)|188.185.124.72|:443... connected.\n",
      "HTTP request sent, awaiting response... 200 OK\n",
      "Length: 506943733 (483M) [application/octet-stream]\n",
      "Saving to: ‘winterreise.zip’\n",
      "\n",
      "winterreise.zip      44%[=======>            ] 214.06M   114KB/s    eta 37m 57s^C\n",
      "Archive:  winterreise.zip\n",
      "  End-of-central-directory signature not found.  Either this file is not\n",
      "  a zipfile, or it constitutes one disk of a multi-part archive.  In the\n",
      "  latter case the central directory and zipfile comment will be found on\n",
      "  the last disk(s) of this archive.\n",
      "Archive:  winterreise.ZIP\n",
      "  End-of-central-directory signature not found.  Either this file is not\n",
      "  a zipfile, or it constitutes one disk of a multi-part archive.  In the\n",
      "  latter case the central directory and zipfile comment will be found on\n",
      "  the last disk(s) of this archive.\n"
     ]
    }
   ],
   "source": [
    "!wget \"https://zenodo.org/record/5139893/files/Schubert_Winterreise_Dataset_v2-0.zip?download=1\" -O winterreise.zip\n",
    "!unzip winterreise -d winterreise\n",
    "!rm -r winterreise.zip"
   ]
  },
  {
   "cell_type": "code",
   "execution_count": 21,
   "metadata": {},
   "outputs": [],
   "source": [
    "from pathlib import Path\n",
    "import shutil\n",
    "import os\n",
    "from tqdm import tqdm\n",
    "import csv\n",
    "\n",
    "SWD_PATH = Path(\"./winterreise\")\n",
    "WINTERREISE_RT_PATH = Path(\"./winterreise_rt\")\n",
    "AUDIO_DIR = \"01_RawData/audio_wav/\"\n",
    "SCORE_DIR = \"01_RawData/score_musicxml/\"\n",
    "LYRICS_DIR = \"01_RawData/lyrics_txt/\"\n",
    "NOTE_ANN_DIR = \"02_Annotations/ann_audio_note/\"\n",
    "AUDIO_KEY_ANN_DIR = \"03_ExtraMaterial/\"\n",
    "FILENAME_PREFIX = \"Schubert_D911-\"\n",
    "SINGERS = {\n",
    "    \"HU33\": \"ref\",\n",
    "    \"SC06\": \"target\",\n",
    "}  # singer_name: role\n",
    "SONG_IDS = [\"{:02d}\".format(i) for i in range(1, 25)]  # 01 ~ 24"
   ]
  },
  {
   "cell_type": "code",
   "execution_count": 24,
   "metadata": {},
   "outputs": [],
   "source": [
    "(WINTERREISE_RT_PATH / AUDIO_DIR).mkdir(parents=True)\n",
    "(WINTERREISE_RT_PATH / SCORE_DIR).mkdir(parents=True)\n",
    "(WINTERREISE_RT_PATH / LYRICS_DIR).mkdir(parents=True)\n",
    "(WINTERREISE_RT_PATH / NOTE_ANN_DIR).mkdir(parents=True)\n",
    "(WINTERREISE_RT_PATH / AUDIO_KEY_ANN_DIR).mkdir(parents=True)"
   ]
  },
  {
   "cell_type": "code",
   "execution_count": 25,
   "metadata": {},
   "outputs": [
    {
     "name": "stdout",
     "output_type": "stream",
     "text": [
      "Copying audio_wav...\n"
     ]
    },
    {
     "name": "stderr",
     "output_type": "stream",
     "text": [
      "100%|██████████| 24/24 [00:00<00:00, 263.76it/s]\n"
     ]
    },
    {
     "name": "stdout",
     "output_type": "stream",
     "text": [
      "Copying audio key annotation...\n",
      "Copying score...\n"
     ]
    },
    {
     "name": "stderr",
     "output_type": "stream",
     "text": [
      "100%|██████████| 24/24 [00:00<00:00, 4075.44it/s]\n"
     ]
    },
    {
     "name": "stdout",
     "output_type": "stream",
     "text": [
      "Copying lyrics...\n"
     ]
    },
    {
     "name": "stderr",
     "output_type": "stream",
     "text": [
      "100%|██████████| 24/24 [00:00<00:00, 3375.92it/s]\n"
     ]
    },
    {
     "name": "stdout",
     "output_type": "stream",
     "text": [
      "Copying & filtering voice note annotation...\n"
     ]
    },
    {
     "name": "stderr",
     "output_type": "stream",
     "text": [
      "100%|██████████| 24/24 [00:00<00:00, 213.42it/s]\n"
     ]
    }
   ],
   "source": [
    "# Copy audio_wav, score_musicxml, lyrics_txt from Schubert_Winterreise_Dataset_v2-0 to winterreise_rt\n",
    "def copy_audio_wav():\n",
    "    print(\"Copying audio_wav...\")\n",
    "    for song_id in tqdm(SONG_IDS):\n",
    "        for singer, role in SINGERS.items():\n",
    "            src_audio = SWD_PATH / AUDIO_DIR / f\"{FILENAME_PREFIX}{song_id}_{singer}.wav\"\n",
    "            dest_audio = WINTERREISE_RT_PATH / AUDIO_DIR / f\"{FILENAME_PREFIX}{song_id}_{role}.wav\"\n",
    "            shutil.copy(src_audio, dest_audio)\n",
    "\n",
    "def copy_audio_key_ann():\n",
    "    print(\"Copying audio key annotation...\")\n",
    "    shutil.copy(\n",
    "        SWD_PATH / AUDIO_KEY_ANN_DIR / \"ann_audio_globalkey-tuning.csv\", \n",
    "        WINTERREISE_RT_PATH / AUDIO_KEY_ANN_DIR / \"ann_audio_globalkey-tuning.csv\"\n",
    "    )\n",
    "\n",
    "def copy_score_musicxml():\n",
    "    print(\"Copying score...\")\n",
    "    for song_id in tqdm(SONG_IDS):\n",
    "        src_score = SWD_PATH / SCORE_DIR / f\"{FILENAME_PREFIX}{song_id}.xml\"\n",
    "        dest_score = WINTERREISE_RT_PATH / SCORE_DIR / f\"{FILENAME_PREFIX}{song_id}.xml\"\n",
    "        shutil.copy(src_score, dest_score)\n",
    "\n",
    "def copy_lyrics_txt():\n",
    "    print(\"Copying lyrics...\")\n",
    "    for song_id in tqdm(SONG_IDS):\n",
    "        src_lyrics = SWD_PATH / LYRICS_DIR / f\"{FILENAME_PREFIX}{song_id}.txt\"\n",
    "        dest_lyrics = WINTERREISE_RT_PATH / LYRICS_DIR / f\"{FILENAME_PREFIX}{song_id}.txt\"\n",
    "        shutil.copy(src_lyrics, dest_lyrics)\n",
    "\n",
    "def copy_and_filter_voice_note_ann():\n",
    "    print(\"Copying & filtering voice note annotation...\")\n",
    "    for song_id in tqdm(SONG_IDS):\n",
    "        for singer, role in SINGERS.items():\n",
    "            annots = []\n",
    "            source_file = (\n",
    "                SWD_PATH\n",
    "                / NOTE_ANN_DIR\n",
    "                / f\"{FILENAME_PREFIX}{song_id}_{singer}.csv\"\n",
    "            )\n",
    "            with open(source_file.as_posix()) as file:\n",
    "                reader = csv.DictReader(file, delimiter=\";\")\n",
    "                for row in reader:\n",
    "                    start, pitch, pitchclass, instrument = (\n",
    "                        row[\"start\"],\n",
    "                        row[\"pitch\"],\n",
    "                        row[\"pitchclass\"],\n",
    "                        row[\"instrument\"],\n",
    "                    )\n",
    "                    if instrument != \"voice\":\n",
    "                        continue\n",
    "                    annots.append(\n",
    "                        {\n",
    "                            \"start\": start,\n",
    "                            \"pitch\": pitch,\n",
    "                            \"pitchclass\": pitchclass,\n",
    "                            \"instrument\": instrument,\n",
    "                        }\n",
    "                    )\n",
    "            out_file = WINTERREISE_RT_PATH / NOTE_ANN_DIR / f\"ann_{FILENAME_PREFIX}{song_id}_{role}.csv\"\n",
    "            with open(out_file.as_posix(), \"w\") as file:\n",
    "                fieldnames = [\"start\", \"pitch\", \"pitchclass\", \"instrument\"]\n",
    "                writer = csv.DictWriter(file, fieldnames=fieldnames)\n",
    "                writer.writeheader()\n",
    "                writer.writerows(annots)\n",
    "\n",
    "def copy_from_orig_dataset():\n",
    "    copy_audio_wav()\n",
    "    copy_audio_key_ann()\n",
    "    copy_score_musicxml()\n",
    "    copy_lyrics_txt()\n",
    "    copy_and_filter_voice_note_ann()\n",
    "\n",
    "copy_from_orig_dataset()"
   ]
  },
  {
   "cell_type": "code",
   "execution_count": null,
   "metadata": {},
   "outputs": [],
   "source": [
    "# Transpose the audio files to match the reference audio\n"
   ]
  },
  {
   "cell_type": "code",
   "execution_count": null,
   "metadata": {},
   "outputs": [],
   "source": [
    "# Filter out the non-voice notes from the note annotation files\n",
    "def filter_voice_note_ann():\n",
    "    print(\"Copying & filtering voice note annotation...\")\n",
    "    for song_id in tqdm(SONG_IDS):\n",
    "        for singer, role in SINGERS.items():\n",
    "            annots = []\n",
    "            source_file = (\n",
    "                SWD_PATH\n",
    "                / NOTE_ANN_DIR\n",
    "                / f\"{FILENAME_PREFIX}{song_id}_{singer}.csv\"\n",
    "            )\n",
    "            with open(source_file.as_posix()) as file:\n",
    "                reader = csv.DictReader(file, delimiter=\";\")\n",
    "                for row in reader:\n",
    "                    start, pitch, pitchclass, instrument = (\n",
    "                        row[\"start\"],\n",
    "                        row[\"pitch\"],\n",
    "                        row[\"pitchclass\"],\n",
    "                        row[\"instrument\"],\n",
    "                    )\n",
    "                    if instrument != \"voice\":\n",
    "                        continue\n",
    "                    annots.append(\n",
    "                        {\n",
    "                            \"start\": start,\n",
    "                            \"pitch\": pitch,\n",
    "                            \"pitchclass\": pitchclass,\n",
    "                            \"instrument\": instrument,\n",
    "                        }\n",
    "                    )\n",
    "            out_file = WINTERREISE_RT_PATH / NOTE_ANN_DIR / f\"ann_{FILENAME_PREFIX}{song_id}_{role}.csv\"\n",
    "            with open(out_file.as_posix(), \"w\") as file:\n",
    "                fieldnames = [\"start\", \"pitch\", \"pitchclass\", \"instrument\"]\n",
    "                writer = csv.DictWriter(file, fieldnames=fieldnames)\n",
    "                writer.writeheader()\n",
    "                writer.writerows(annots)"
   ]
  },
  {
   "cell_type": "markdown",
   "metadata": {},
   "source": [
    "## References\n",
    "\n",
    "[1] C. Weiß, F. Zalkow, V. Arifi-Müller, M. Müller, H. V.Koops, A. Volk, and H. Grohganz, “Schubert Winterreise dataset: A multimodal scenario for music analysis,” ACM Journal on Computing and Cultural Heritage (JOCCH), vol. 14, no. 2, pp. 25:1–18, 2021."
   ]
  }
 ],
 "metadata": {
  "kernelspec": {
   "display_name": "wrt",
   "language": "python",
   "name": "python3"
  },
  "language_info": {
   "codemirror_mode": {
    "name": "ipython",
    "version": 3
   },
   "file_extension": ".py",
   "mimetype": "text/x-python",
   "name": "python",
   "nbconvert_exporter": "python",
   "pygments_lexer": "ipython3",
   "version": "3.10.12"
  },
  "orig_nbformat": 4
 },
 "nbformat": 4,
 "nbformat_minor": 2
}
